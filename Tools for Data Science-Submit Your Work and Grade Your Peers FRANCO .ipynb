{
 "cells": [
  {
   "cell_type": "markdown",
   "id": "d0bf7c37",
   "metadata": {},
   "source": [
    "<H1>My Jupyter Notebook on IBM Watson Studio</H1>"
   ]
  },
  {
   "cell_type": "markdown",
   "id": "5d52630c",
   "metadata": {},
   "source": [
    "<font>**Name: Franco Tsai**<font>  \n",
    "Current occupation:Software engnieer   \n",
    "Desired occupation: Data analyst or scientist"
   ]
  },
  {
   "cell_type": "markdown",
   "id": "d68c1d33",
   "metadata": {},
   "source": [
    "_I am interested in data science because I majored in image processing in the graduate school and more interested in mathematics and statistics.  \n",
    "I hope that my interest can be combined with my future occupation._"
   ]
  },
  {
   "cell_type": "markdown",
   "id": "8e5c968d",
   "metadata": {},
   "source": [
    "<H3>The following code is created to add </H3>"
   ]
  },
  {
   "cell_type": "code",
   "execution_count": 1,
   "id": "11c45493",
   "metadata": {},
   "outputs": [
    {
     "ename": "NameError",
     "evalue": "name 'add' is not defined",
     "output_type": "error",
     "traceback": [
      "\u001b[1;31m---------------------------------------------------------------------------\u001b[0m",
      "\u001b[1;31mNameError\u001b[0m                                 Traceback (most recent call last)",
      "\u001b[1;32m~\\AppData\\Local\\Temp/ipykernel_13340/2336062942.py\u001b[0m in \u001b[0;36m<module>\u001b[1;34m\u001b[0m\n\u001b[0;32m      1\u001b[0m \u001b[1;32mdef\u001b[0m \u001b[0mmultiply\u001b[0m\u001b[1;33m(\u001b[0m\u001b[0ma\u001b[0m\u001b[1;33m,\u001b[0m\u001b[0mb\u001b[0m\u001b[1;33m)\u001b[0m\u001b[1;33m:\u001b[0m\u001b[1;33m\u001b[0m\u001b[1;33m\u001b[0m\u001b[0m\n\u001b[0;32m      2\u001b[0m     \u001b[1;32mreturn\u001b[0m\u001b[1;33m(\u001b[0m\u001b[0ma\u001b[0m\u001b[1;33m*\u001b[0m\u001b[0mb\u001b[0m\u001b[1;33m)\u001b[0m\u001b[1;33m\u001b[0m\u001b[1;33m\u001b[0m\u001b[0m\n\u001b[1;32m----> 3\u001b[1;33m \u001b[0madd\u001b[0m\u001b[1;33m(\u001b[0m\u001b[1;36m1\u001b[0m\u001b[1;33m,\u001b[0m\u001b[1;36m2\u001b[0m\u001b[1;33m)\u001b[0m\u001b[1;33m\u001b[0m\u001b[1;33m\u001b[0m\u001b[0m\n\u001b[0m",
      "\u001b[1;31mNameError\u001b[0m: name 'add' is not defined"
     ]
    }
   ],
   "source": [
    "def multiply(a,b):\n",
    "    return(a*b)\n",
    "multiply(1,2)\n"
   ]
  },
  {
   "cell_type": "markdown",
   "id": "d7467b06",
   "metadata": {},
   "source": [
    "---\n",
    "- 1\n",
    "- 2\n",
    "- 3\n",
    "  \n",
    "|**Item**|**Language**|\n",
    "|---              |:---        |   \n",
    "|Item 1           |Python      |\n",
    "|Item 2           |R           |\n",
    "|Item 3           |SQL         |\n",
    "[Coursera](https://www.coursera.org/)"
   ]
  },
  {
   "cell_type": "code",
   "execution_count": null,
   "id": "fd3439d7",
   "metadata": {},
   "outputs": [],
   "source": []
  }
 ],
 "metadata": {
  "kernelspec": {
   "display_name": "Python 3 (ipykernel)",
   "language": "python",
   "name": "python3"
  },
  "language_info": {
   "codemirror_mode": {
    "name": "ipython",
    "version": 3
   },
   "file_extension": ".py",
   "mimetype": "text/x-python",
   "name": "python",
   "nbconvert_exporter": "python",
   "pygments_lexer": "ipython3",
   "version": "3.9.0"
  }
 },
 "nbformat": 4,
 "nbformat_minor": 5
}
